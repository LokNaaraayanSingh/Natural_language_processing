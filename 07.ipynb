{
 "cells": [
  {
   "cell_type": "code",
   "execution_count": 3,
   "metadata": {},
   "outputs": [
    {
     "ename": "AttributeError",
     "evalue": "'API' object has no attribute 'search'",
     "output_type": "error",
     "traceback": [
      "\u001b[1;31m---------------------------------------------------------------------------\u001b[0m",
      "\u001b[1;31mAttributeError\u001b[0m                            Traceback (most recent call last)",
      "Cell \u001b[1;32mIn[3], line 28\u001b[0m\n\u001b[0;32m     26\u001b[0m \u001b[38;5;66;03m# Example: Collect tweets related to the election hashtag\u001b[39;00m\n\u001b[0;32m     27\u001b[0m election_hashtag \u001b[38;5;241m=\u001b[39m \u001b[38;5;124m'\u001b[39m\u001b[38;5;124m#election2024\u001b[39m\u001b[38;5;124m'\u001b[39m\n\u001b[1;32m---> 28\u001b[0m tweets \u001b[38;5;241m=\u001b[39m \u001b[43mcollect_tweets\u001b[49m\u001b[43m(\u001b[49m\u001b[43melection_hashtag\u001b[49m\u001b[43m,\u001b[49m\u001b[43m \u001b[49m\u001b[43mcount\u001b[49m\u001b[38;5;241;43m=\u001b[39;49m\u001b[38;5;241;43m200\u001b[39;49m\u001b[43m)\u001b[49m\n\u001b[0;32m     30\u001b[0m \u001b[38;5;66;03m# Analyze sentiments of collected tweets\u001b[39;00m\n\u001b[0;32m     31\u001b[0m sentiments \u001b[38;5;241m=\u001b[39m [analyze_sentiment(tweet) \u001b[38;5;28;01mfor\u001b[39;00m tweet \u001b[38;5;129;01min\u001b[39;00m tweets]\n",
      "Cell \u001b[1;32mIn[3], line 17\u001b[0m, in \u001b[0;36mcollect_tweets\u001b[1;34m(hashtag, count)\u001b[0m\n\u001b[0;32m     16\u001b[0m \u001b[38;5;28;01mdef\u001b[39;00m \u001b[38;5;21mcollect_tweets\u001b[39m(hashtag, count\u001b[38;5;241m=\u001b[39m\u001b[38;5;241m100\u001b[39m):\n\u001b[1;32m---> 17\u001b[0m     tweets \u001b[38;5;241m=\u001b[39m tweepy\u001b[38;5;241m.\u001b[39mCursor(\u001b[43mapi\u001b[49m\u001b[38;5;241;43m.\u001b[39;49m\u001b[43msearch\u001b[49m, q\u001b[38;5;241m=\u001b[39mhashtag, lang\u001b[38;5;241m=\u001b[39m\u001b[38;5;124m\"\u001b[39m\u001b[38;5;124men\u001b[39m\u001b[38;5;124m\"\u001b[39m)\u001b[38;5;241m.\u001b[39mitems(count)\n\u001b[0;32m     18\u001b[0m     \u001b[38;5;28;01mreturn\u001b[39;00m [tweet\u001b[38;5;241m.\u001b[39mtext \u001b[38;5;28;01mfor\u001b[39;00m tweet \u001b[38;5;129;01min\u001b[39;00m tweets]\n",
      "\u001b[1;31mAttributeError\u001b[0m: 'API' object has no attribute 'search'"
     ]
    }
   ],
   "source": [
    "import tweepy\n",
    "from textblob import TextBlob\n",
    "\n",
    "# Set up Twitter API credentials\n",
    "consumer_key = 'your_consumer_key'\n",
    "consumer_secret = 'your_consumer_secret'\n",
    "access_token = 'your_access_token'\n",
    "access_token_secret = 'your_access_token_secret'\n",
    "\n",
    "# Authenticate with Twitter API\n",
    "auth = tweepy.OAuthHandler(consumer_key, consumer_secret)\n",
    "auth.set_access_token(access_token, access_token_secret)\n",
    "api = tweepy.API(auth)\n",
    "\n",
    "# Function to collect tweets for a specific hashtag\n",
    "def collect_tweets(hashtag, count=100):\n",
    "    tweets = tweepy.Cursor(api.search, q=hashtag, lang=\"en\").items(count)\n",
    "    return [tweet.text for tweet in tweets]\n",
    "\n",
    "# Function for sentiment analysis using TextBlob\n",
    "def analyze_sentiment(tweet):\n",
    "    analysis = TextBlob(tweet)\n",
    "    # Classify the polarity of the tweet\n",
    "    return 'positive' if analysis.sentiment.polarity > 0 else 'negative' if analysis.sentiment.polarity < 0 else 'neutral'\n",
    "\n",
    "# Example: Collect tweets related to the election hashtag\n",
    "election_hashtag = '#election2024'\n",
    "tweets = collect_tweets(election_hashtag, count=200)\n",
    "\n",
    "# Analyze sentiments of collected tweets\n",
    "sentiments = [analyze_sentiment(tweet) for tweet in tweets]\n",
    "\n",
    "# Predict election results based on sentiments\n",
    "positive_count = sentiments.count('positive')\n",
    "negative_count = sentiments.count('negative')\n",
    "\n",
    "if positive_count > negative_count:\n",
    "    prediction = 'Positive sentiment indicates a favorable outcome.'\n",
    "elif positive_count < negative_count:\n",
    "    prediction = 'Negative sentiment indicates an unfavorable outcome.'\n",
    "else:\n",
    "    prediction = 'Neutral sentiment. No clear prediction.'\n",
    "\n",
    "# Display results\n",
    "print(\"Sentiment Analysis Results:\")\n",
    "print(f\"Positive Tweets: {positive_count}\")\n",
    "print(f\"Negative Tweets: {negative_count}\")\n",
    "print(\"\\nElection Prediction:\")\n",
    "print(prediction)\n"
   ]
  },
  {
   "cell_type": "code",
   "execution_count": null,
   "metadata": {},
   "outputs": [],
   "source": []
  }
 ],
 "metadata": {
  "kernelspec": {
   "display_name": "Python 3",
   "language": "python",
   "name": "python3"
  },
  "language_info": {
   "codemirror_mode": {
    "name": "ipython",
    "version": 3
   },
   "file_extension": ".py",
   "mimetype": "text/x-python",
   "name": "python",
   "nbconvert_exporter": "python",
   "pygments_lexer": "ipython3",
   "version": "3.10.2"
  }
 },
 "nbformat": 4,
 "nbformat_minor": 2
}
