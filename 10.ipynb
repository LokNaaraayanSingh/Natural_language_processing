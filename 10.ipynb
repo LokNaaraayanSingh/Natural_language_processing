{
 "cells": [
  {
   "cell_type": "code",
   "execution_count": 3,
   "metadata": {},
   "outputs": [
    {
     "name": "stdout",
     "output_type": "stream",
     "text": [
      "Summary:\n",
      "However, fostering good sleep hygiene, such as maintaining a regular sleep schedule, creating a restful environment, and limiting screen time before bed, can significantly enhance sleep quality and, in turn, overall health and quality of life. Conversely, sleep deprivation can lead to a myriad of health issues, including impaired cognitive performance, increased risk of chronic conditions such as heart disease and diabetes, and weakened immune function.\n"
     ]
    }
   ],
   "source": [
    "import nltk\n",
    "from nltk.corpus import stopwords\n",
    "from nltk.tokenize import sent_tokenize, word_tokenize\n",
    "from heapq import nlargest\n",
    "\n",
    "def summarize_paragraph(paragraph, num_sentences=2):\n",
    "    # Tokenize the paragraph into sentences\n",
    "    sentences = sent_tokenize(paragraph)\n",
    "\n",
    "    # Tokenize the sentences into words and remove stopwords\n",
    "    stop_words = set(stopwords.words('english'))\n",
    "    word_freq = {}\n",
    "    for sentence in sentences:\n",
    "        words = word_tokenize(sentence.lower())\n",
    "        words = [word for word in words if word.isalnum() and word not in stop_words]\n",
    "        for word in words:\n",
    "            if word not in word_freq:\n",
    "                word_freq[word] = 1\n",
    "            else:\n",
    "                word_freq[word] += 1\n",
    "\n",
    "    # Calculate the importance score of each sentence\n",
    "    sentence_scores = {}\n",
    "    for sentence in sentences:\n",
    "        words = word_tokenize(sentence.lower())\n",
    "        score = sum([word_freq[word] for word in words if word in word_freq])\n",
    "        sentence_scores[sentence] = score\n",
    "\n",
    "    # Select the top sentences with highest scores\n",
    "    top_sentences = nlargest(num_sentences, sentence_scores, key=sentence_scores.get)\n",
    "\n",
    "    # Combine the top sentences to form the summary\n",
    "    summary = ' '.join(top_sentences)\n",
    "    return summary\n",
    "\n",
    "if __name__ == \"__main__\":\n",
    "    paragraph = \"\"\"Sleep is a vital component of overall health and well-being, impacting various aspects of our physical and mental health. Adequate sleep is essential for cognitive functions such as memory consolidation, learning, and decision-making. It also plays a crucial role in maintaining emotional stability, reducing stress, and improving mood. During sleep, the body undergoes various restorative processes, including muscle repair, tissue growth, and protein synthesis, which are vital for physical health. Moreover, sufficient sleep supports a robust immune system, helping the body fend off infections and illnesses. Conversely, sleep deprivation can lead to a myriad of health issues, including impaired cognitive performance, increased risk of chronic conditions such as heart disease and diabetes, and weakened immune function. Chronic sleep deficiency is also associated with mental health disorders like anxiety and depression. In today’s fast-paced world, prioritizing sleep can be challenging due to demanding schedules and the prevalence of electronic devices that disrupt sleep patterns. However, fostering good sleep hygiene, such as maintaining a regular sleep schedule, creating a restful environment, and limiting screen time before bed, can significantly enhance sleep quality and, in turn, overall health and quality of life.\n",
    "\"\"\"\n",
    "    summary = summarize_paragraph(paragraph)\n",
    "    print(\"Summary:\")\n",
    "    print(summary)\n"
   ]
  },
  {
   "cell_type": "code",
   "execution_count": null,
   "metadata": {},
   "outputs": [],
   "source": []
  }
 ],
 "metadata": {
  "kernelspec": {
   "display_name": "Python 3",
   "language": "python",
   "name": "python3"
  },
  "language_info": {
   "codemirror_mode": {
    "name": "ipython",
    "version": 3
   },
   "file_extension": ".py",
   "mimetype": "text/x-python",
   "name": "python",
   "nbconvert_exporter": "python",
   "pygments_lexer": "ipython3",
   "version": "3.10.2"
  }
 },
 "nbformat": 4,
 "nbformat_minor": 2
}
