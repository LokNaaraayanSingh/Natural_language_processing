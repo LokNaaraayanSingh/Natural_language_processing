{
 "cells": [
  {
   "cell_type": "code",
   "execution_count": 4,
   "metadata": {},
   "outputs": [
    {
     "name": "stdout",
     "output_type": "stream",
     "text": [
      "Accuracy: 0.0\n",
      "Text: This is awful., Predicted label: negative\n",
      "Text: good, Predicted label: negative\n"
     ]
    }
   ],
   "source": [
    "from sklearn.feature_extraction.text import TfidfVectorizer\n",
    "from sklearn.model_selection import train_test_split\n",
    "from sklearn.naive_bayes import MultinomialNB\n",
    "from sklearn.metrics import accuracy_score\n",
    "\n",
    "# Sample data\n",
    "texts = [\n",
    "    \"I love this product!\",\n",
    "    \"This is great.\",\n",
    "    \"This product is fantastic.\",\n",
    "    \"I don't like this product.\",\n",
    "    \"This is terrible.\",\n",
    "    \"I hate it.\"\n",
    "]\n",
    "labels = [\"positive\", \"positive\", \"positive\", \"negative\", \"negative\", \"negative\"]\n",
    "\n",
    "# Vectorize the text data using TF-IDF\n",
    "vectorizer = TfidfVectorizer()\n",
    "X = vectorizer.fit_transform(texts)\n",
    "\n",
    "# Split the data into training and testing sets\n",
    "X_train, X_test, y_train, y_test = train_test_split(X, labels, test_size=0.2, random_state=42)\n",
    "\n",
    "# Train the classifier\n",
    "classifier = MultinomialNB(alpha=1.0)  # Adjust the smoothing parameter\n",
    "classifier.fit(X_train, y_train)\n",
    "\n",
    "# Predict the labels of the test set\n",
    "y_pred = classifier.predict(X_test)\n",
    "\n",
    "# Calculate accuracy\n",
    "accuracy = accuracy_score(y_test, y_pred)\n",
    "print(\"Accuracy:\", accuracy)\n",
    "\n",
    "# Test with new data\n",
    "new_texts = [\"This is awful.\",\"good\"]\n",
    "X_new = vectorizer.transform(new_texts)\n",
    "predictions = classifier.predict(X_new)\n",
    "for text, prediction in zip(new_texts, predictions):\n",
    "    print(f\"Text: {text}, Predicted label: {prediction}\")\n"
   ]
  },
  {
   "cell_type": "code",
   "execution_count": null,
   "metadata": {},
   "outputs": [],
   "source": []
  }
 ],
 "metadata": {
  "kernelspec": {
   "display_name": "Python 3",
   "language": "python",
   "name": "python3"
  },
  "language_info": {
   "codemirror_mode": {
    "name": "ipython",
    "version": 3
   },
   "file_extension": ".py",
   "mimetype": "text/x-python",
   "name": "python",
   "nbconvert_exporter": "python",
   "pygments_lexer": "ipython3",
   "version": "3.10.2"
  }
 },
 "nbformat": 4,
 "nbformat_minor": 2
}
