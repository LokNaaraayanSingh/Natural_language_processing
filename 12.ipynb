{
 "cells": [
  {
   "cell_type": "code",
   "execution_count": 1,
   "metadata": {},
   "outputs": [
    {
     "name": "stdout",
     "output_type": "stream",
     "text": [
      "Hello! I'm your gift recommendation chatbot. How can I help you today?\n",
      "You can talk to me about the person you want to give a gift to and the occasion.\n",
      "Type 'quit' to exit the chat.\n",
      "A festive item would be perfect for Christmas.\n",
      "I'm not sure what to suggest. Can you give me more details?\n",
      "How about a personalized gift for the birthday?\n",
      "I'm not sure what to suggest. Can you give me more details?\n",
      "I'm not sure what to suggest. Can you give me more details?\n",
      "Goodbye! I hope I helped you find the perfect gift.\n"
     ]
    }
   ],
   "source": [
    "def get_gift_recommendation(message):\n",
    "    if \"birthday\" in message.lower():\n",
    "        return \"How about a personalized gift for the birthday?\"\n",
    "    elif \"anniversary\" in message.lower():\n",
    "        return \"Consider a romantic gift for the anniversary.\"\n",
    "    elif \"christmas\" in message.lower():\n",
    "        return \"A festive item would be perfect for Christmas.\"\n",
    "    elif \"graduation\" in message.lower():\n",
    "        return \"Something for their next journey, like a nice pen or notebook.\"\n",
    "    elif \"wedding\" in message.lower():\n",
    "        return \"A gift for the couple's new home would be lovely.\"\n",
    "    elif \"likes\" in message.lower() or \"loves\" in message.lower() or \"enjoys\" in message.lower():\n",
    "        item = message.split()[-1]\n",
    "        return f\"How about getting a {item} as a gift?\"\n",
    "    else:\n",
    "        return \"I'm not sure what to suggest. Can you give me more details?\"\n",
    "\n",
    "def chat():\n",
    "    print(\"Hello! I'm your gift recommendation chatbot. How can I help you today?\")\n",
    "    print(\"You can talk to me about the person you want to give a gift to and the occasion.\")\n",
    "    print(\"Type 'quit' to exit the chat.\")\n",
    "    while True:\n",
    "        user_input = input(\"> \")\n",
    "        if user_input.lower() == \"quit\":\n",
    "            print(\"Goodbye! I hope I helped you find the perfect gift.\")\n",
    "            break\n",
    "        response = get_gift_recommendation(user_input)\n",
    "        print(response)\n",
    "\n",
    "# Start the chat\n",
    "if __name__ == \"__main__\":\n",
    "    chat()\n"
   ]
  },
  {
   "cell_type": "code",
   "execution_count": null,
   "metadata": {},
   "outputs": [],
   "source": []
  }
 ],
 "metadata": {
  "kernelspec": {
   "display_name": "Python 3",
   "language": "python",
   "name": "python3"
  },
  "language_info": {
   "codemirror_mode": {
    "name": "ipython",
    "version": 3
   },
   "file_extension": ".py",
   "mimetype": "text/x-python",
   "name": "python",
   "nbconvert_exporter": "python",
   "pygments_lexer": "ipython3",
   "version": "3.10.2"
  }
 },
 "nbformat": 4,
 "nbformat_minor": 2
}
