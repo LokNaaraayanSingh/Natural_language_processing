{
 "cells": [
  {
   "cell_type": "code",
   "execution_count": 1,
   "metadata": {},
   "outputs": [
    {
     "name": "stdout",
     "output_type": "stream",
     "text": [
      "Possible corrections for 'pthon':\n",
      "python (distance: 1)\n"
     ]
    },
    {
     "name": "stderr",
     "output_type": "stream",
     "text": [
      "[nltk_data] Error loading punkt: <urlopen error [Errno 11001]\n",
      "[nltk_data]     getaddrinfo failed>\n"
     ]
    }
   ],
   "source": [
    "import nltk\n",
    "\n",
    "def suggest_corrections(word, possible_corrections, max_distance=2):\n",
    "    word = word.lower()\n",
    "    corrections = []\n",
    "\n",
    "    for candidate in possible_corrections:\n",
    "        candidate = candidate.lower()\n",
    "        distance = nltk.edit_distance(word, candidate)\n",
    "\n",
    "        if distance <= max_distance:\n",
    "            corrections.append((candidate, distance))\n",
    "\n",
    "    corrections.sort(key=lambda x: x[1])  # Sort by distance\n",
    "    return corrections\n",
    "\n",
    "if __name__ == \"__main__\":\n",
    "    # Example usage\n",
    "    nltk.download('punkt')\n",
    "\n",
    "    input_word = \"pthon\"\n",
    "    possible_corrections = [\"spelling\", \"correction\", \"example\", \"python\"]\n",
    "\n",
    "    corrections = suggest_corrections(input_word, possible_corrections)\n",
    "    if corrections:\n",
    "        print(f\"Possible corrections for '{input_word}':\")\n",
    "        for suggestion, distance in corrections:\n",
    "            print(f\"{suggestion} (distance: {distance})\")\n",
    "    else:\n",
    "        print(f\"No corrections found for '{input_word}'.\")\n"
   ]
  },
  {
   "cell_type": "code",
   "execution_count": null,
   "metadata": {},
   "outputs": [],
   "source": [
    "\n"
   ]
  }
 ],
 "metadata": {
  "kernelspec": {
   "display_name": "Python 3",
   "language": "python",
   "name": "python3"
  },
  "language_info": {
   "codemirror_mode": {
    "name": "ipython",
    "version": 3
   },
   "file_extension": ".py",
   "mimetype": "text/x-python",
   "name": "python",
   "nbconvert_exporter": "python",
   "pygments_lexer": "ipython3",
   "version": "3.10.2"
  }
 },
 "nbformat": 4,
 "nbformat_minor": 2
}
