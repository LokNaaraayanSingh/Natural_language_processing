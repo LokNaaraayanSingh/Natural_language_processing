{
 "cells": [
  {
   "cell_type": "code",
   "execution_count": 1,
   "metadata": {},
   "outputs": [
    {
     "name": "stdout",
     "output_type": "stream",
     "text": [
      "Resume 1: Passed screening\n",
      "Resume 2: Passed screening\n",
      "Resume 3: Passed screening\n",
      "Resume 4: Passed screening\n",
      "Resume 5: Passed screening\n",
      "Resume 6: Failed screening\n"
     ]
    }
   ],
   "source": [
    "def screen_resume(resume_text, keywords):\n",
    "    # Convert resume text to lowercase for case-insensitive matching\n",
    "    resume_text = resume_text.lower()\n",
    "\n",
    "    # Check if any keyword is present in the resume\n",
    "    return any(keyword in resume_text for keyword in keywords)\n",
    "\n",
    "def main():\n",
    "    # Example keywords related to the job requirements\n",
    "    job_keywords = ['python', 'java', 'data analysis', 'machine learning', 'communication skills', 'teamwork']\n",
    "\n",
    "    # Example resumes to be screened\n",
    "    resumes = [\n",
    "        \"I am a Python developer with experience in data analysis.\",\n",
    "        \"Java developer with strong teamwork and communication skills.\",\n",
    "        \"Experienced in machine learning and data science.\",\n",
    "        \"Front-end developer with HTML, CSS, and JavaScript skills.\",\n",
    "        \"I am a Python developer with experience in machine learning and data analysis.\",\n",
    "        \"i don't know anthing\",\n",
    "    ]\n",
    "\n",
    "    # Screen each resume and print the result\n",
    "    for i, resume in enumerate(resumes, start=1):\n",
    "        result = screen_resume(resume, job_keywords)\n",
    "        print(f\"Resume {i}: {'Passed' if result else 'Failed'} screening\")\n",
    "\n",
    "if __name__ == \"__main__\":\n",
    "    main()\n"
   ]
  },
  {
   "cell_type": "code",
   "execution_count": null,
   "metadata": {},
   "outputs": [],
   "source": []
  }
 ],
 "metadata": {
  "kernelspec": {
   "display_name": "Python 3",
   "language": "python",
   "name": "python3"
  },
  "language_info": {
   "codemirror_mode": {
    "name": "ipython",
    "version": 3
   },
   "file_extension": ".py",
   "mimetype": "text/x-python",
   "name": "python",
   "nbconvert_exporter": "python",
   "pygments_lexer": "ipython3",
   "version": "3.10.2"
  }
 },
 "nbformat": 4,
 "nbformat_minor": 2
}
