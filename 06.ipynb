{
 "cells": [
  {
   "cell_type": "code",
   "execution_count": 4,
   "metadata": {},
   "outputs": [
    {
     "name": "stderr",
     "output_type": "stream",
     "text": [
      "[nltk_data] Error loading words: <urlopen error [Errno 11001]\n",
      "[nltk_data]     getaddrinfo failed>\n"
     ]
    },
    {
     "name": "stdout",
     "output_type": "stream",
     "text": [
      "Original: surfing\n",
      "Corrected: surfacing\n"
     ]
    }
   ],
   "source": [
    "from difflib import get_close_matches\n",
    "import nltk\n",
    "\n",
    "# Download NLTK data (if not already downloaded)\n",
    "nltk.download('words')\n",
    "\n",
    "# Get a list of English words\n",
    "english_words = set(nltk.corpus.words.words())\n",
    "\n",
    "def correct_typo_nlp(input_word):\n",
    "    # Check if the input word is a valid English word\n",
    "    if input_word.lower() in english_words:\n",
    "        return input_word\n",
    "\n",
    "    # Find the closest match with similarity ratio using difflib\n",
    "    close_matches = get_close_matches(input_word, english_words, n=1, cutoff=0.8)\n",
    "\n",
    "    return close_matches[0] if close_matches else input_word\n",
    "\n",
    "# Example usage\n",
    "word_to_correct = \"surfing\"\n",
    "corrected_word = correct_typo_nlp(word_to_correct)\n",
    "\n",
    "print(f\"Original: {word_to_correct}\")\n",
    "print(f\"Corrected: {corrected_word}\")\n"
   ]
  },
  {
   "cell_type": "code",
   "execution_count": null,
   "metadata": {},
   "outputs": [],
   "source": []
  }
 ],
 "metadata": {
  "kernelspec": {
   "display_name": "Python 3",
   "language": "python",
   "name": "python3"
  },
  "language_info": {
   "codemirror_mode": {
    "name": "ipython",
    "version": 3
   },
   "file_extension": ".py",
   "mimetype": "text/x-python",
   "name": "python",
   "nbconvert_exporter": "python",
   "pygments_lexer": "ipython3",
   "version": "3.10.2"
  }
 },
 "nbformat": 4,
 "nbformat_minor": 2
}
