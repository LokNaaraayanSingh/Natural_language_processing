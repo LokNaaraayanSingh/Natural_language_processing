{
 "cells": [
  {
   "cell_type": "code",
   "execution_count": 2,
   "metadata": {},
   "outputs": [
    {
     "name": "stdout",
     "output_type": "stream",
     "text": [
      "Hello! I'm your task management chatbot. Type 'quit' to exit.\n",
      "Task 'eat' added.\n",
      "1. eat [✗]\n",
      "Goodbye! Have a productive day.\n"
     ]
    }
   ],
   "source": [
    "tasks = []\n",
    "\n",
    "print(\"Hello! I'm your task management chatbot. Type 'quit' to exit.\")\n",
    "\n",
    "while True:\n",
    "    user_input = input(\"> \").strip().lower()\n",
    "    if user_input == \"quit\":\n",
    "        print(\"Goodbye! Have a productive day.\")\n",
    "        break\n",
    "    elif user_input.startswith(\"add \"):\n",
    "        task = user_input[4:].strip()\n",
    "        if task:\n",
    "            tasks.append({\"task\": task, \"completed\": False})\n",
    "            print(f\"Task '{task}' added.\")\n",
    "        else:\n",
    "            print(\"Please specify a task to add.\")\n",
    "    elif user_input == \"list\":\n",
    "        if not tasks:\n",
    "            print(\"No tasks available.\")\n",
    "        else:\n",
    "            for i, task in enumerate(tasks, 1):\n",
    "                status = \"✓\" if task[\"completed\"] else \"✗\"\n",
    "                print(f\"{i}. {task['task']} [{status}]\")\n",
    "    elif user_input.startswith(\"complete \"):\n",
    "        try:\n",
    "            task_number = int(user_input[9:].strip())\n",
    "            if 0 < task_number <= len(tasks):\n",
    "                tasks[task_number - 1][\"completed\"] = True\n",
    "                print(f\"Task {task_number} marked as completed.\")\n",
    "            else:\n",
    "                print(\"Invalid task number.\")\n",
    "        except ValueError:\n",
    "            print(\"Please specify a valid task number to complete.\")\n",
    "    else:\n",
    "        print(\"Invalid command. Use 'add <task>', 'list', or 'complete <task number>'.\")\n"
   ]
  },
  {
   "cell_type": "code",
   "execution_count": null,
   "metadata": {},
   "outputs": [],
   "source": []
  },
  {
   "cell_type": "code",
   "execution_count": null,
   "metadata": {},
   "outputs": [],
   "source": []
  }
 ],
 "metadata": {
  "kernelspec": {
   "display_name": "Python 3",
   "language": "python",
   "name": "python3"
  },
  "language_info": {
   "codemirror_mode": {
    "name": "ipython",
    "version": 3
   },
   "file_extension": ".py",
   "mimetype": "text/x-python",
   "name": "python",
   "nbconvert_exporter": "python",
   "pygments_lexer": "ipython3",
   "version": "3.10.2"
  }
 },
 "nbformat": 4,
 "nbformat_minor": 2
}
