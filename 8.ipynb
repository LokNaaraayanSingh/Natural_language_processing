{
 "cells": [
  {
   "cell_type": "code",
   "execution_count": 3,
   "metadata": {},
   "outputs": [
    {
     "name": "stdout",
     "output_type": "stream",
     "text": [
      "Predicted language for 'La inteligencia artificial es el futuro' is: Spanish\n"
     ]
    }
   ],
   "source": [
    "from sklearn.feature_extraction.text import CountVectorizer\n",
    "from sklearn.naive_bayes import MultinomialNB\n",
    "\n",
    "# Sample data (English and Spanish text)\n",
    "english_texts = [\"I love programming\", \"Python is a great language\", \"Machine learning is fascinating\"]\n",
    "spanish_texts = [\"Me encanta programar\", \"Python es un gran lenguaje\", \"El aprendizaje automático es fascinante\"]\n",
    "labels = [0, 0, 0, 1, 1, 1]  # 0 for English, 1 for Spanish\n",
    "\n",
    "# Combine English and Spanish texts\n",
    "all_texts = english_texts + spanish_texts\n",
    "\n",
    "# Train vectorizer and transform text data\n",
    "vectorizer = CountVectorizer()\n",
    "X_train_counts = vectorizer.fit_transform(all_texts)\n",
    "\n",
    "# Train a Naive Bayes classifier\n",
    "classifier = MultinomialNB()\n",
    "classifier.fit(X_train_counts, labels)\n",
    "\n",
    "# Example usage: Classify a new text\n",
    "new_text = [\"La inteligencia artificial es el futuro\"]\n",
    "new_text_counts = vectorizer.transform(new_text)\n",
    "predicted_language = \"English\" if classifier.predict(new_text_counts)[0] == 0 else \"Spanish\"\n",
    "print(\"Predicted language for '{}' is: {}\".format(new_text[0], predicted_language))"
   ]
  },
  {
   "cell_type": "code",
   "execution_count": null,
   "metadata": {},
   "outputs": [],
   "source": []
  }
 ],
 "metadata": {
  "kernelspec": {
   "display_name": "Python 3",
   "language": "python",
   "name": "python3"
  },
  "language_info": {
   "codemirror_mode": {
    "name": "ipython",
    "version": 3
   },
   "file_extension": ".py",
   "mimetype": "text/x-python",
   "name": "python",
   "nbconvert_exporter": "python",
   "pygments_lexer": "ipython3",
   "version": "3.10.2"
  }
 },
 "nbformat": 4,
 "nbformat_minor": 2
}
