{
 "cells": [
  {
   "cell_type": "code",
   "execution_count": 1,
   "metadata": {},
   "outputs": [
    {
     "name": "stdout",
     "output_type": "stream",
     "text": [
      "Top Keywords:\n",
      "language: 3 times\n",
      "natural: 2 times\n",
      "computers: 2 times\n",
      "processing: 1 times\n",
      "nlp: 1 times\n"
     ]
    },
    {
     "name": "stderr",
     "output_type": "stream",
     "text": [
      "[nltk_data] Error loading punkt: <urlopen error [Errno 11001]\n",
      "[nltk_data]     getaddrinfo failed>\n",
      "[nltk_data] Error loading stopwords: <urlopen error [Errno 11001]\n",
      "[nltk_data]     getaddrinfo failed>\n"
     ]
    }
   ],
   "source": [
    "import nltk\n",
    "from nltk.corpus import stopwords\n",
    "from nltk.tokenize import word_tokenize\n",
    "from nltk.probability import FreqDist\n",
    "\n",
    "nltk.download('punkt')\n",
    "nltk.download('stopwords')\n",
    "\n",
    "def extract_keywords(text, num_keywords=5):\n",
    "    # Tokenize the text into words\n",
    "    words = word_tokenize(text.lower())\n",
    "\n",
    "    # Remove stopwords\n",
    "    stop_words = set(stopwords.words('english'))\n",
    "    filtered_words = [word for word in words if word.isalnum() and word not in stop_words]\n",
    "\n",
    "    # Calculate the frequency distribution of words\n",
    "    freq_dist = FreqDist(filtered_words)\n",
    "\n",
    "    # Get the top N keywords based on frequency\n",
    "    keywords = freq_dist.most_common(num_keywords)\n",
    "\n",
    "    return keywords\n",
    "\n",
    "if __name__ == \"__main__\":\n",
    "    # Example text for keyword extraction\n",
    "    sample_text = \"\"\"\n",
    "    Natural language processing (NLP) is a subfield of artificial intelligence that focuses on the interaction\n",
    "    between computers and humans using natural language. It involves the development of algorithms and\n",
    "    models to enable computers to understand, interpret, and generate human-like language.\n",
    "    \"\"\"\n",
    "\n",
    "    # Extract and print the top 5 keywords\n",
    "    extracted_keywords = extract_keywords(sample_text, num_keywords=5)\n",
    "    print(\"Top Keywords:\")\n",
    "    for keyword, frequency in extracted_keywords:\n",
    "        print(f\"{keyword}: {frequency} times\")\n"
   ]
  },
  {
   "cell_type": "code",
   "execution_count": null,
   "metadata": {},
   "outputs": [],
   "source": []
  }
 ],
 "metadata": {
  "kernelspec": {
   "display_name": "Python 3",
   "language": "python",
   "name": "python3"
  },
  "language_info": {
   "codemirror_mode": {
    "name": "ipython",
    "version": 3
   },
   "file_extension": ".py",
   "mimetype": "text/x-python",
   "name": "python",
   "nbconvert_exporter": "python",
   "pygments_lexer": "ipython3",
   "version": "3.10.2"
  }
 },
 "nbformat": 4,
 "nbformat_minor": 2
}
